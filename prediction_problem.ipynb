{
 "cells": [
  {
   "cell_type": "code",
   "execution_count": 48,
   "metadata": {},
   "outputs": [],
   "source": [
    "import pandas as pd\n",
    "import numpy as np\n",
    "import seaborn as sns\n",
    "import matplotlib.pyplot as plt\n",
    "from  sklearn.linear_model import LinearRegression\n",
    "from sklearn.metrics import mean_squared_error, mean_absolute_error, r2_score\n",
    "import statsmodels.api as sm\n",
    "import statsmodels.formula.api as smf\n",
    "from sklearn.preprocessing import OneHotEncoder\n",
    "from sklearn.metrics import precision_recall_curve, roc_curve, auc, accuracy_score\n",
    "from sklearn.linear_model import LogisticRegression\n",
    "from sklearn.model_selection import train_test_split\n",
    "from sklearn.preprocessing import StandardScaler\n",
    "from sklearn.pipeline import Pipeline\n",
    "from sklearn.compose import ColumnTransformer\n",
    "from sklearn.preprocessing import KBinsDiscretizer, PolynomialFeatures\n",
    "from sklearn.impute import SimpleImputer"
   ]
  },
  {
   "cell_type": "code",
   "execution_count": 112,
   "metadata": {},
   "outputs": [],
   "source": [
    "X = pd.read_csv('../pp_data/train_X.csv')\n",
    "y = pd.read_csv('../pp_data/train_y.csv')\n",
    "y = y['ON_TIME_AND_COMPLETE']\n",
    "test_data = pd.read_csv('../pp_data/public_private_X.csv')"
   ]
  },
  {
   "cell_type": "code",
   "execution_count": 113,
   "metadata": {},
   "outputs": [
    {
     "name": "stderr",
     "output_type": "stream",
     "text": [
      "/home/baz/ds_folder/stat303_env/lib/python3.10/site-packages/sklearn/linear_model/_logistic.py:465: ConvergenceWarning: lbfgs failed to converge (status=1):\n",
      "STOP: TOTAL NO. of ITERATIONS REACHED LIMIT.\n",
      "\n",
      "Increase the number of iterations (max_iter) or scale the data as shown in:\n",
      "    https://scikit-learn.org/stable/modules/preprocessing.html\n",
      "Please also refer to the documentation for alternative solver options:\n",
      "    https://scikit-learn.org/stable/modules/linear_model.html#logistic-regression\n",
      "  n_iter_i = _check_optimize_result(\n",
      "/home/baz/ds_folder/stat303_env/lib/python3.10/site-packages/sklearn/preprocessing/_encoders.py:246: UserWarning: Found unknown categories in columns [4, 5, 6, 7] during transform. These unknown categories will be encoded as all zeros\n",
      "  warnings.warn(\n",
      "/home/baz/ds_folder/stat303_env/lib/python3.10/site-packages/sklearn/preprocessing/_encoders.py:246: UserWarning: Found unknown categories in columns [3, 4, 5, 6, 7] during transform. These unknown categories will be encoded as all zeros\n",
      "  warnings.warn(\n"
     ]
    },
    {
     "name": "stdout",
     "output_type": "stream",
     "text": [
      "Accuracy with default threshold (0.5): 0.772226304188097\n",
      "Number of rows in submission: 10247\n",
      "Number of rows in test_data: 10247\n"
     ]
    }
   ],
   "source": [
    "X_train, X_test, y_train, y_test = train_test_split(X, y, test_size=0.2, random_state=42)\n",
    "\n",
    "num_features = [\n",
    "    'DAYS_BETWEEN_ORDER_AND_DUE_DATE',\n",
    "    'DISTANCE_IN_MILES',\n",
    "    'GIVEN_TIME_TO_LEAD_TIME_RATIO',\n",
    "    'LEAD_TIME_TO_DISTANCE_RATIO',\n",
    "    'AVERAGE_DAILY_DEMAND_CASES',  \n",
    "    'AVERAGE_VENDOR_ORDER_CYCLE_DAYS',  \n",
    "    'AVERAGE_ORDER_CYCLE_DAYS'  \n",
    "]\n",
    "\n",
    "cat_features = [\n",
    "    'RESERVABLE_INDICATOR',\n",
    "    'DIVISION_NUMBER',  \n",
    "    'DIVISION_CODE', \n",
    "    'PRODUCT_CLASSIFICATION',  \n",
    "    'PRODUCT_MARKET',  \n",
    "    'PURCHASE_FROM_VENDOR', \n",
    "    'SHIP_FROM_VENDOR',  \n",
    "    'COMPANY_VENDOR_NUMBER',  \n",
    "    'PURCHASE_ORDER_TYPE'  \n",
    "]\n",
    "\n",
    "preprocessor = ColumnTransformer(\n",
    "    transformers=[\n",
    "        ('num', Pipeline([\n",
    "            ('imputer', SimpleImputer(strategy='mean')),  # Impute missing numeric values with the mean\n",
    "            ('scaler', StandardScaler()),  # Standard scaling\n",
    "            ('poly', PolynomialFeatures(degree=2, include_bias=False))  # Polynomial terms\n",
    "        ]), num_features),\n",
    "        \n",
    "        ('cat', Pipeline([\n",
    "            ('imputer', SimpleImputer(strategy='most_frequent')),  # Impute missing categorical values\n",
    "            ('onehot', OneHotEncoder(drop='first', handle_unknown='ignore'))  # Handle unseen categories in test data\n",
    "        ]), cat_features)\n",
    "    ]\n",
    ")\n",
    "\n",
    "pipeline = Pipeline([\n",
    "    ('preprocessor', preprocessor),  # Transformations\n",
    "    ('classifier', LogisticRegression())  # Model\n",
    "])\n",
    "\n",
    "pipeline.fit(X_train, y_train)\n",
    "y_pred = pipeline.predict(X_test)\n",
    "print(\"Accuracy with default threshold (0.5):\", accuracy_score(y_test, y_pred))\n",
    "\n",
    "y_pred_test_data = pipeline.predict(test_data)\n",
    "\n",
    "submission = pd.DataFrame({\n",
    "    'ID': test_data['ID'], \n",
    "    'ON_TIME_AND_COMPLETE': y_pred_test_data\n",
    "})\n",
    "\n",
    "submission = submission.sort_values(by='ID').reset_index(drop=True)\n",
    "print(\"Number of rows in submission:\", submission.shape[0])\n",
    "print(\"Number of rows in test_data:\", test_data.shape[0])\n",
    "submission.to_csv('prediction.csv', index=False)"
   ]
  }
 ],
 "metadata": {
  "kernelspec": {
   "display_name": "stat303_env",
   "language": "python",
   "name": "python3"
  },
  "language_info": {
   "codemirror_mode": {
    "name": "ipython",
    "version": 3
   },
   "file_extension": ".py",
   "mimetype": "text/x-python",
   "name": "python",
   "nbconvert_exporter": "python",
   "pygments_lexer": "ipython3",
   "version": "3.10.6"
  }
 },
 "nbformat": 4,
 "nbformat_minor": 2
}
